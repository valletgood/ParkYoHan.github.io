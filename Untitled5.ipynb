{
  "nbformat": 4,
  "nbformat_minor": 0,
  "metadata": {
    "colab": {
      "provenance": [],
      "authorship_tag": "ABX9TyNo9xaW2MQjo1Mw7KN5DDk9",
      "include_colab_link": true
    },
    "kernelspec": {
      "name": "python3",
      "display_name": "Python 3"
    },
    "language_info": {
      "name": "python"
    }
  },
  "cells": [
    {
      "cell_type": "markdown",
      "metadata": {
        "id": "view-in-github",
        "colab_type": "text"
      },
      "source": [
        "<a href=\"https://colab.research.google.com/github/valletgood/ParkYoHan.github.io/blob/main/Untitled5.ipynb\" target=\"_parent\"><img src=\"https://colab.research.google.com/assets/colab-badge.svg\" alt=\"Open In Colab\"/></a>"
      ]
    },
    {
      "cell_type": "code",
      "execution_count": null,
      "metadata": {
        "colab": {
          "base_uri": "https://localhost:8080/"
        },
        "id": "ByDUAgS92h5s",
        "outputId": "a34fc539-d877-485f-ba70-9948b880a093"
      },
      "outputs": [
        {
          "output_type": "stream",
          "name": "stdout",
          "text": [
            "--- 퍼셉트론으로 구현한 AND 게이트 ---\n",
            "(-1, -1) :  -1\n",
            "(-1, 1) :  -1\n",
            "(1, -1) :  -1\n",
            "(1, 1) :  1\n",
            "--- 퍼셉트론으로 구현한 OR 게이트 ---\n",
            "(-1, -1) :  -1\n",
            "(-1, 1) :  1\n",
            "(1, -1) :  1\n",
            "(1, 1) :  1\n"
          ]
        }
      ],
      "source": [
        " import numpy as np\n",
        " \n",
        " w, b = np.array([0.5, 0.5]), -0.7\n",
        "\n",
        " def perceptron(x1, x2):\n",
        "   x = np.array([x1, x2])\n",
        "   tmp = np.sum( w * x ) + b\n",
        "   if tmp <= 0: return -1\n",
        "   else: return 1\n",
        "\n",
        "print('--- 퍼셉트론으로 구현한 AND 게이트 ---')\n",
        "for xs in [(-1, -1), (-1, 1), (1, -1), (1, 1)]:\n",
        "  y = perceptron(xs[0], xs[1])\n",
        "  print(xs, ': ', y)\n",
        "\n",
        "w, b = np.array([0.7, 0.7]), .5\n",
        "\n",
        "print('--- 퍼셉트론으로 구현한 OR 게이트 ---')\n",
        "for xs in [(-1, -1), (-1, 1), (1, -1), (1, 1)]:\n",
        "  y = perceptron(xs[0], xs[1])\n",
        "  print(xs, ': ', y) "
      ]
    },
    {
      "cell_type": "code",
      "source": [
        "import numpy as np\n",
        "w, b = np.array([0, 0]), 0.0\n",
        "learning_rate = 0.01\n",
        "\n",
        "def activation(s):\n",
        "  if s > 0: return 1\n",
        "  elif s < 0: return -1\n",
        "  return 0\n",
        "\n",
        "def out(x):\n",
        "  return activation(w.dot(x) + b)\n",
        "\n",
        "def train(x0, x1, target):\n",
        "  global w, b\n",
        "  X = np.array([x0, x1])\n",
        "  y = out(X)\n",
        "\n",
        "  if target == y: return False\n",
        "  print('가중치 수정전 target \" :{} y:{} b:{} w:{}'.format(target, y, b, w))\n",
        "  w = w + learning_rate * X * target\n",
        "  b = b + learning_rate * 1 * target\n",
        "  print('가중치 수정후 target :{} y:{} b:{} w:{}'.format(target, y, b, w))\n",
        "  return True\n",
        "\n",
        "def predict(inputs):\n",
        "  outputs = []\n",
        "  for x in inputs:\n",
        "    outputs.append (out(x))\n",
        "  return outputs\n",
        "\n",
        "adjusted = 0\n",
        "for i in range(100):\n",
        "  adjusted += train(-1, -1, -1)\n",
        "  adjusted += train(-1,1, 1)\n",
        "  adjusted += train(1,-1, 1)\n",
        "  adjusted += train(1,1, 1)\n",
        "  print(\"iteration ------------------\", i)\n",
        "  if not adjusted: break\n",
        "  adjusted = 0"
      ],
      "metadata": {
        "colab": {
          "base_uri": "https://localhost:8080/"
        },
        "id": "qd0mTpcnEjjD",
        "outputId": "eba7c70c-8dc1-4617-e914-60740a5c0fa3"
      },
      "execution_count": null,
      "outputs": [
        {
          "output_type": "stream",
          "name": "stdout",
          "text": [
            "가중치 수정전 target \" :-1 y:0 b:0.0 w:[0 0]\n",
            "가중치 수정후 target :-1 y:0 b:-0.01 w:[0.01 0.01]\n",
            "가중치 수정전 target \" :1 y:-1 b:-0.01 w:[0.01 0.01]\n",
            "가중치 수정후 target :1 y:-1 b:0.0 w:[0.   0.02]\n",
            "가중치 수정전 target \" :1 y:-1 b:0.0 w:[0.   0.02]\n",
            "가중치 수정후 target :1 y:-1 b:0.01 w:[0.01 0.01]\n",
            "iteration ------------------ 0\n",
            "iteration ------------------ 1\n"
          ]
        }
      ]
    },
    {
      "cell_type": "code",
      "source": [
        "X = [[-1, -1], [-1, 1], [1, -1], [1,1]]\n",
        "yhat = predict(X)\n",
        "print('x0 x1 y')\n",
        "for i in range(len(X)):\n",
        "  print('{0:2d} {1:2d} {2:2d}'.format(X[i][0], X[i][1], yhat[i]))"
      ],
      "metadata": {
        "colab": {
          "base_uri": "https://localhost:8080/"
        },
        "id": "bDRYkuksF_gr",
        "outputId": "c0fd8f16-8e16-4a38-d639-41175c516180"
      },
      "execution_count": null,
      "outputs": [
        {
          "output_type": "stream",
          "name": "stdout",
          "text": [
            "x0 x1 y\n",
            "-1 -1 -1\n",
            "-1  1  1\n",
            " 1 -1  1\n",
            " 1  1  1\n"
          ]
        }
      ]
    },
    {
      "cell_type": "code",
      "source": [
        "adjusted = 0\n",
        "for i in range(100):\n",
        "  adjusted += train(-1, -1, -1)\n",
        "  adjusted += train(-1,1, -1)\n",
        "  adjusted += train(1,-1, -1)\n",
        "  adjusted += train(1,1, 1)\n",
        "  print(\"iteration ------------------\", i)\n",
        "  if not adjusted: break\n",
        "  adjusted = 0"
      ],
      "metadata": {
        "colab": {
          "base_uri": "https://localhost:8080/"
        },
        "id": "n213oiQpGyry",
        "outputId": "619d4472-13c2-400a-b6e1-52799946a724"
      },
      "execution_count": null,
      "outputs": [
        {
          "output_type": "stream",
          "name": "stdout",
          "text": [
            "가중치 수정전 target \" :-1 y:1 b:0.01 w:[0.01 0.01]\n",
            "가중치 수정후 target :-1 y:1 b:0.0 w:[0.02 0.  ]\n",
            "가중치 수정전 target \" :-1 y:1 b:0.0 w:[0.02 0.  ]\n",
            "가중치 수정후 target :-1 y:1 b:-0.01 w:[0.01 0.01]\n",
            "iteration ------------------ 0\n",
            "iteration ------------------ 1\n"
          ]
        }
      ]
    },
    {
      "cell_type": "code",
      "source": [
        "X = [[-1, -1], [-1, 1], [1, -1], [1,1]]\n",
        "yhat = predict(X)\n",
        "print('x0 x1 y')\n",
        "for i in range(len(X)):\n",
        "  print('{0:2d} {1:2d} {2:2d}'.format(X[i][0], X[i][1], yhat[i]))"
      ],
      "metadata": {
        "colab": {
          "base_uri": "https://localhost:8080/"
        },
        "id": "3-3cjhp6G-fQ",
        "outputId": "8501297d-5aa1-4820-8e33-a3de5d778f7d"
      },
      "execution_count": null,
      "outputs": [
        {
          "output_type": "stream",
          "name": "stdout",
          "text": [
            "x0 x1 y\n",
            "-1 -1 -1\n",
            "-1  1 -1\n",
            " 1 -1 -1\n",
            " 1  1  1\n"
          ]
        }
      ]
    },
    {
      "cell_type": "code",
      "source": [
        "adjusted = 0\n",
        "for i in range(100):\n",
        "  adjusted += train(-1, -1, 1)\n",
        "  adjusted += train(-1,1, 1)\n",
        "  adjusted += train(1,-1, 1)\n",
        "  adjusted += train(1,1, -1)\n",
        "  print(\"iteration ------------------\", i)\n",
        "  if not adjusted: break\n",
        "  adjusted = 0"
      ],
      "metadata": {
        "colab": {
          "base_uri": "https://localhost:8080/"
        },
        "id": "-ECsokx9HFwI",
        "outputId": "c9f82c53-d2bc-4fe6-c3af-1d0db7165e74"
      },
      "execution_count": null,
      "outputs": [
        {
          "output_type": "stream",
          "name": "stdout",
          "text": [
            "가중치 수정전 target \" :1 y:0 b:0.0 w:[0. 0.]\n",
            "가중치 수정후 target :1 y:0 b:0.01 w:[-0.01 -0.01]\n",
            "iteration ------------------ 0\n",
            "iteration ------------------ 1\n"
          ]
        }
      ]
    },
    {
      "cell_type": "code",
      "source": [
        "X = [[-1, -1], [-1, 1], [1, -1], [1,1]]\n",
        "yhat = predict(X)\n",
        "print('x0 x1 y')\n",
        "for i in range(len(X)):\n",
        "  print('{0:2d} {1:2d} {2:2d}'.format(X[i][0], X[i][1], yhat[i]))"
      ],
      "metadata": {
        "colab": {
          "base_uri": "https://localhost:8080/"
        },
        "id": "3euaetN_Hl7A",
        "outputId": "74dac6b9-ba44-4d3c-d65e-97aae6869f5f"
      },
      "execution_count": null,
      "outputs": [
        {
          "output_type": "stream",
          "name": "stdout",
          "text": [
            "x0 x1 y\n",
            "-1 -1  1\n",
            "-1  1  1\n",
            " 1 -1  1\n",
            " 1  1 -1\n"
          ]
        }
      ]
    },
    {
      "cell_type": "code",
      "source": [
        "import numpy as np\n",
        "w, b = np.array([0, 0, 0, 0]), 0.0\n",
        "learning_rate = 0.01\n",
        "\n",
        "def activation(s):\n",
        "  if s > 0: return 1\n",
        "  elif s < 0: return -1\n",
        "  return 0\n",
        "\n",
        "def out(polyX):\n",
        "  return activation(w.dot(polyX))\n",
        "\n",
        "def train(x0, x1, target):\n",
        "  global w\n",
        "  polyX = np.array([x0, x1, x0*x1, 1])\n",
        "  y = out(polyX)\n",
        "\n",
        "  if target == y: return 0\n",
        "  print('가중치 수정전 target :{} y:{} w:{}'.format(target, y, w))\n",
        "  w = w + learning_rate * polyX * target\n",
        "  print('가중치 수정후 target :{} y:{} w:{}'.format(target, y, w))\n",
        "  return 1\n",
        "\n",
        "def predict(inputs):\n",
        "  outputs = []\n",
        "  for x in inputs:\n",
        "    polyX = np.array([x[0], x[1], x[0]*x[1], 1])\n",
        "    outputs.append (out(polyX))\n",
        "  return outputs\n",
        "\n",
        "adjusted = 0\n",
        "for i in range(100):\n",
        "  adjusted += train(-1, -1, -1)\n",
        "  adjusted += train(-1,1, 1)\n",
        "  adjusted += train(1,-1, 1)\n",
        "  adjusted += train(1,1, -1)\n",
        "  print(\"iteration ------------------\", i)\n",
        "  if not adjusted: break\n",
        "  adjusted = 0\n",
        "\n",
        "X = [[-1, -1], [-1, 1], [1, -1], [1,1]]\n",
        "yhat = predict(X)\n",
        "print('x0 x1 y')\n",
        "for i in range(len(X)):\n",
        "  print('{0:2d} {1:2d} {2:2d}'.format(X[i][0], X[i][1], yhat[i]))"
      ],
      "metadata": {
        "colab": {
          "base_uri": "https://localhost:8080/"
        },
        "id": "XNVCCFqPOZfV",
        "outputId": "1e614f05-8084-4771-dd31-9374817abc5b"
      },
      "execution_count": null,
      "outputs": [
        {
          "output_type": "stream",
          "name": "stdout",
          "text": [
            "가중치 수정전 target :-1 y:0 w:[0 0 0 0]\n",
            "가중치 수정후 target :-1 y:0 w:[ 0.01  0.01 -0.01 -0.01]\n",
            "가중치 수정전 target :1 y:0 w:[ 0.01  0.01 -0.01 -0.01]\n",
            "가중치 수정후 target :1 y:0 w:[ 0.    0.02 -0.02  0.  ]\n",
            "가중치 수정전 target :1 y:0 w:[ 0.    0.02 -0.02  0.  ]\n",
            "가중치 수정후 target :1 y:0 w:[ 0.01  0.01 -0.03  0.01]\n",
            "가중치 수정전 target :-1 y:1 w:[ 0.01  0.01 -0.03  0.01]\n",
            "가중치 수정후 target :-1 y:1 w:[ 0.    0.   -0.04  0.  ]\n",
            "iteration ------------------ 0\n",
            "iteration ------------------ 1\n",
            "x0 x1 y\n",
            "-1 -1 -1\n",
            "-1  1  1\n",
            " 1 -1  1\n",
            " 1  1 -1\n"
          ]
        }
      ]
    },
    {
      "cell_type": "code",
      "source": [
        "import numpy as np\n",
        "import matplotlib.pyplot as plt\n",
        "\n",
        "U = np.random.rand(2, 3)\n",
        "W = np.random.rand(3, 2)\n",
        "learning_rate = 1.0\n",
        "\n",
        "def sigmoid(v):\n",
        "  return 1 / (1+np.exp(-v))\n",
        "\n",
        "def derivative_sigmoid(v):\n",
        "  s = sigmoid(v)\n",
        "  return s*(1-s)\n",
        "\n",
        "input = np.zeros(2)\n",
        "\n",
        "h_sum, h_out, h_deriv = np.zeros(3), np.zeros(3), np.zeros(3)\n",
        "h_error, h_delta, = np.zeros(3), np.zeros(3)\n",
        "\n",
        "yy_error, y_delta = np.zeros(2), np.zeros(2)\n",
        "y_error, y_delta = np.zeros(2), np.zeros(2)\n",
        "\n",
        "def forward_xh(x):\n",
        "  global input, h_sum, h_out, h_deriv\n",
        "  input = x\n",
        "  h_sum = U.T.dot(input)\n",
        "  h_out = sigmoid(h_sum)\n",
        "  h_deriv = derivative_sigmoid(h_sum)\n",
        "\n",
        "def forward_hy():\n",
        "  global y_sum, y_out, y_deriv\n",
        "  y_sum = W.T.dot(h_out)\n",
        "  y_out = sigmoid(y_sum)\n",
        "  y_deriv = derivative_sigmoid(y_sum)\n",
        "\n",
        "def compute_error(target):\n",
        "  return y_out - target\n",
        "\n",
        "def backward_y(error):\n",
        "  global y_error, y_delta, W\n",
        "  y_error = error\n",
        "  y_delta = y_deriv * y_error\n",
        "  dW = - learning_rate * np.outer(h_out, y_delta)\n",
        "  W = W + dW\n",
        "\n",
        "def backward_h():\n",
        "  global h_error, h_delta, U\n",
        "  h_error = W.dot(y_delta)\n",
        "  h_delta = h_deriv * h_error\n",
        "  dU = - learning_rate * np.outer(input, h_delta)\n",
        "  U = U + dU\n",
        "\n",
        "def train(x, target):\n",
        "  forward_xh(x)\n",
        "  forward_hy()\n",
        "  e = compute_error(target)\n",
        "  backward_y(e)\n",
        "  backward_h()\n",
        "  return e**2\n",
        "\n",
        "loss = []\n",
        "for i in range(1000):\n",
        "  e_accum=0\n",
        "  true = np.array([1,0])\n",
        "  false = np.array([0,1])\n",
        "  e_accum += train(np.array([0,0]), false)\n",
        "  e_accum += train(np.array([0,1]), true)\n",
        "  e_accum += train(np.array([1,1]), false)\n",
        "  e_accum += train(np.array([1,0]), true)\n",
        "  loss.append(e_accum)\n",
        "\n",
        "plt.plot(loss)\n",
        "plt.ylabel('loss')\n",
        "plt.xlabel('training')\n",
        "plt.show()\n"
      ],
      "metadata": {
        "colab": {
          "base_uri": "https://localhost:8080/",
          "height": 279
        },
        "id": "Y-bVEj35T6mK",
        "outputId": "ac961f08-d67e-40c9-9d5b-e630281aee52"
      },
      "execution_count": null,
      "outputs": [
        {
          "output_type": "display_data",
          "data": {
            "text/plain": [
              "<Figure size 432x288 with 1 Axes>"
            ],
            "image/png": "[encoded data removed]"
          },
          "metadata": {
            "needs_background": "light"
          }
        }
      ]
    },
    {
      "cell_type": "code",
      "source": [
        "def test(X):\n",
        "  y_hat = []\n",
        "  for x in X:\n",
        "    forward_xh(x)\n",
        "    forward_hy()\n",
        "    y_hat.append(y_out)\n",
        "  return y_hat\n",
        "\n",
        "test(np.array([[0,0], [0,1], [1,0], [1,1]]))"
      ],
      "metadata": {
        "colab": {
          "base_uri": "https://localhost:8080/"
        },
        "id": "rVIdL19NWOxB",
        "outputId": "9089880e-5ecb-4929-fa3b-83a1db5a1a42"
      },
      "execution_count": null,
      "outputs": [
        {
          "output_type": "execute_result",
          "data": {
            "text/plain": [
              "[array([0.11981353, 0.88206466]),\n",
              " array([0.92479246, 0.0738976 ]),\n",
              " array([0.92461739, 0.07406745]),\n",
              " array([0.03914014, 0.96194379])]"
            ]
          },
          "metadata": {},
          "execution_count": 65
        }
      ]
    },
    {
      "cell_type": "code",
      "source": [
        "import pandas as pd\n",
        "import matplotlib.pyplot as plt\n",
        "import numpy as np\n",
        "data_loc = 'https://github.com/dknife/ML/raw/main/data/'\n",
        "df = pd.read_csv(data_loc+'nonlinear.csv')\n",
        "plt.scatter(df['x'], df['y'])"
      ],
      "metadata": {
        "colab": {
          "base_uri": "https://localhost:8080/",
          "height": 283
        },
        "id": "RmjOEszsWqBo",
        "outputId": "f0eef570-fe7e-416a-c018-f5a9484aa394"
      },
      "execution_count": null,
      "outputs": [
        {
          "output_type": "execute_result",
          "data": {
            "text/plain": [
              "<matplotlib.collections.PathCollection at 0x7f1223976dd0>"
            ]
          },
          "metadata": {},
          "execution_count": 66
        },
        {
          "output_type": "display_data",
          "data": {
            "text/plain": [
              "<Figure size 432x288 with 1 Axes>"
            ],
            "image/png": "[encoded data removed]"
          },
          "metadata": {
            "needs_background": "light"
          }
        }
      ]
    },
    {
      "cell_type": "code",
      "source": [
        "nx, nh1, nh2, ny = 1, 6, 4, 1\n",
        "U = np.random.randn(nx, nh1)*2\n",
        "V = np.random.randn(nh1, nh2)*2\n",
        "W = np.random.randn(nh2, ny)*2\n",
        "learning_rate = 0.1\n",
        "\n",
        "def sigmoid(v):\n",
        "  return 1 / (1+np.exp(-v))\n",
        "\n",
        "input = np.zeros(nx)\n",
        "\n",
        "h1_out, h1_deriv = np.zeros(nh1), np.zeros(nh1)\n",
        "h1_delta = np.zeros(nh1)\n",
        "\n",
        "h2_out, h2_deriv = np.zeros(nh2), np.zeros(nh2)\n",
        "h2_delta = np.zeros(nh2)\n",
        "\n",
        "y_out, y_deriv = np.zeros(ny), np.zeros(ny)\n",
        "y_delta = np.zeros(ny)\n",
        "\n",
        "def forward(x):\n",
        "  global input, h1_out, h1_deriv, h2_out, h2_deriv, y_out, y_deriv\n",
        "  input = x\n",
        "  h1_out = sigmoid(U.T.dot(input))\n",
        "  h1_deriv = h1_out * (1 - h1_out)\n",
        "\n",
        "  h2_out = sigmoid(V.T.dot(h1_out))\n",
        "  h2_deriv = h2_out * (1-h2_out)\n",
        "\n",
        "  y_out = sigmoid(W.T.dot(h2_out))\n",
        "  y_deriv = y_out * (1-y_out)\n",
        "\n",
        "def comput_error(target):\n",
        "  return y_out - target\n",
        "\n",
        "def backward(error):\n",
        "  global y_delta, W, h2_delta, h1_delta, U, V\n",
        "\n",
        "  y_delta = y_deriv * error\n",
        "  dW = -learning_rate * np.outer(h2_out, y_delta)\n",
        "\n",
        "  W = W + dW\n",
        "  h2_delta = h2_deriv * W.dot(y_delta)\n",
        "  dV = - learning_rate * np.outer(h1_out, h2_delta)\n",
        "\n",
        "  V = V + dV\n",
        "  h1_delta = h1_deriv * V.dot(h2_delta)\n",
        "  dU = -learning_rate * np.outer(input, h1_delta)\n",
        "\n",
        "def train(x, target):\n",
        "  forward(x)\n",
        "  e = compute_error(target)\n",
        "  backward(e)\n",
        "  return e**2\n",
        "\n",
        "loss = []\n",
        "X = df['x'].to_numpy()\n",
        "y_label = df['y'].to_numpy()\n",
        "for i in range(100):\n",
        "  e_accum = 0\n",
        "  for x, y in zip(X, y_label):\n",
        "    e_accum += train(x,y)\n",
        "  loss.append(e_accum)\n",
        "\n",
        "err_log = np.array(loss).flatten()\n",
        "plt.plot(err_log)\n",
        "plt.show()"
      ],
      "metadata": {
        "colab": {
          "base_uri": "https://localhost:8080/",
          "height": 269
        },
        "id": "nWQJtYGOW73w",
        "outputId": "68409b1a-d9d8-48a6-e40a-220f30ff52a2"
      },
      "execution_count": null,
      "outputs": [
        {
          "output_type": "display_data",
          "data": {
            "text/plain": [
              "<Figure size 432x288 with 1 Axes>"
            ],
            "image/png": "[encoded data removed]"
          },
          "metadata": {
            "needs_background": "light"
          }
        }
      ]
    },
    {
      "cell_type": "code",
      "source": [
        "def predict(X):\n",
        "  y_hat = []\n",
        "  for x in X:\n",
        "    forward(x)\n",
        "    y_hat.append(y_out)\n",
        "  return y_hat\n",
        "\n",
        "domain = np.linspace(0, 1, 100).reshape(-1, 1)\n",
        "y_hat = predict(domain)\n",
        "plt.scatter(df['x'], df['y'])\n",
        "plt.scatter(domain, y_hat, color='r')"
      ],
      "metadata": {
        "colab": {
          "base_uri": "https://localhost:8080/",
          "height": 283
        },
        "id": "LeiTDOk6Zytn",
        "outputId": "fdaf9dca-698c-4ea9-fc16-b0dea143bad7"
      },
      "execution_count": null,
      "outputs": [
        {
          "output_type": "execute_result",
          "data": {
            "text/plain": [
              "<matplotlib.collections.PathCollection at 0x7f122308aed0>"
            ]
          },
          "metadata": {},
          "execution_count": 75
        },
        {
          "output_type": "display_data",
          "data": {
            "text/plain": [
              "<Figure size 432x288 with 1 Axes>"
            ],
            "image/png": "[encoded data removed]"
          },
          "metadata": {
            "needs_background": "light"
          }
        }
      ]
    }
  ]
}